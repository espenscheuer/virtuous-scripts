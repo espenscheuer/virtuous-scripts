{
 "cells": [
  {
   "cell_type": "code",
   "execution_count": 1,
   "metadata": {},
   "outputs": [],
   "source": [
    "import requests\n",
    "from csv import reader"
   ]
  },
  {
   "cell_type": "code",
   "execution_count": 2,
   "metadata": {},
   "outputs": [],
   "source": [
    "url = 'https://api.virtuoussoftware.com/api/ContactAddress/ByContact/'\n",
    "contact = 12046\n",
    "turl = url + str(contact)"
   ]
  },
  {
   "cell_type": "code",
   "execution_count": 3,
   "metadata": {},
   "outputs": [],
   "source": [
    "def checkifequal(add1, add2):\n",
    "    return add1[\"address1\"] == add2[\"address1\"] and add1[\"address2\"] == add2[\"address2\"] and add1[\"city\"] == add2[\"city\"]           and add1[\"state\"] == add2[\"state\"] \n",
    "\n",
    "def sortHelp(e):\n",
    "  if e['address1']:\n",
    "    return e['address1']\n",
    "  return 'zzzzzzzz'"
   ]
  },
  {
   "cell_type": "code",
   "execution_count": 4,
   "metadata": {},
   "outputs": [
    {
     "name": "stdout",
     "output_type": "stream",
     "text": [
      "[2806, 2807, 2808, 2810, 2811, 2821, 5460, 5498, 5512, 6111, 6136, 6168, 6248, 6253, 6676, 6754, 6904, 7012, 7317, 7444, 7453, 7707, 7902, 8256, 8952, 9084, 9286, 9712, 10708, 10762, 11766, 11957, 12076, 12342, 13394, 13646, 13813, 13886, 14159, 14236, 14765, 14859, 14896, 14945, 15304, 15518, 15679, 15773, 16326, 16407, 16523, 16617, 16944, 17391, 17457, 17744, 17766, 17905, 18004, 18031, 18276, 18717, 19152, 19246, 19488, 20433, 20462, 20552, 20625, 20676, 20683, 20733, 20781, 20994, 21013, 21017, 21026, 21034, 21090, 21277, 21767, 22081, 22198, 22252, 22505, 22510, 22548, 22644, 22864, 23003, 23039, 23087, 23149, 23292, 23436, 23440, 23993, 24049, 24069, 24086, 24099, 24339, 24377, 24571, 25177, 25348, 25476, 25618, 25756, 26076, 26087, 26659, 26722, 26887, 27033, 27189, 27380, 27647, 27938, 28050, 28992, 29074, 29702, 29794, 30154, 30612, 31035, 31250, 31862, 31901, 32106, 32203, 32237, 32284, 32470, 32507, 32549, 32563, 32692, 32696, 32725, 32921, 32954, 33068, 33069, 33085, 33110, 33274, 33303, 33444, 33546, 33705, 33710, 33772, 33816, 33913, 33919, 33940, 33968, 34024, 34124, 34331, 34333, 34414, 34460, 34552, 34608, 35086, 35310, 35542, 35553, 35585, 35930, 36021, 36199, 36354, 36650, 37585, 37707, 37712, 37736, 37750, 37751, 37774, 38137, 38475, 38477, 38617, 38803, 38841, 39084, 39116, 39149, 39538, 39763, 39957, 40154, 40239, 40307, 40337, 40422, 40424, 40590, 40821, 40824, 41021, 41149, 41362, 41419, 41614, 42113, 42218, 42254, 42307]\n"
     ]
    }
   ],
   "source": [
    "dupes = []\n",
    "with open('dupesFin.csv', 'r') as read_obj:\n",
    "    # pass the file object to reader() to get the reader object\n",
    "    csv_reader = reader(read_obj)\n",
    "    # Pass reader object to list() to get a list of lists\n",
    "    list_of_rows = list(csv_reader)\n",
    "    list_of_rows.pop(0)\n",
    "    for l in list_of_rows:\n",
    "        if(l):\n",
    "            dupes.append(int(l[0]))\n",
    "\n",
    "print(dupes)"
   ]
  },
  {
   "cell_type": "code",
   "execution_count": 5,
   "metadata": {},
   "outputs": [],
   "source": [
    "for x in dupes: \n",
    "    delete = -1\n",
    "    temp = url + str(x)\n",
    "    r = requests.get(temp, headers={'Authorization': token})\n",
    "    addresses = r.json()\n",
    "    addresses.sort(key = sortHelp)\n",
    "    for i in range(len(addresses) - 1):\n",
    "        if checkifequal(addresses[i], addresses[i+1]):\n",
    "            if not addresses[i]['isPrimary']:\n",
    "                delete = i\n",
    "            elif not addresses[i+1]['isPrimary']: \n",
    "                delete = i+1\n",
    "    if delete != -1:\n",
    "        delurl = 'https://api.virtuoussoftware.com/api/ContactAddress/' + str(addresses[delete]['id'])\n",
    "        requests.delete(delurl, headers={'Authorization': token})"
   ]
  },
  {
   "cell_type": "code",
   "execution_count": null,
   "metadata": {},
   "outputs": [],
   "source": []
  }
 ],
 "metadata": {
  "kernelspec": {
   "display_name": "Python 3.9.1 64-bit",
   "metadata": {
    "interpreter": {
     "hash": "325451240e38c38d94c78dbf442484c2144119a3d1065c8bed3c5ae277d9b164"
    }
   },
   "name": "python3"
  },
  "language_info": {
   "codemirror_mode": {
    "name": "ipython",
    "version": 3
   },
   "file_extension": ".py",
   "mimetype": "text/x-python",
   "name": "python",
   "nbconvert_exporter": "python",
   "pygments_lexer": "ipython3",
   "version": "3.9.1-final"
  },
  "orig_nbformat": 2
 },
 "nbformat": 4,
 "nbformat_minor": 2
}
